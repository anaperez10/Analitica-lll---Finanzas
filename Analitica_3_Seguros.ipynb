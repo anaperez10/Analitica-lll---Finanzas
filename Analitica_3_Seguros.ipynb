{
  "nbformat": 4,
  "nbformat_minor": 0,
  "metadata": {
    "colab": {
      "provenance": [],
      "collapsed_sections": [],
      "include_colab_link": true
    },
    "kernelspec": {
      "name": "python3",
      "display_name": "Python 3"
    },
    "language_info": {
      "name": "python"
    }
  },
  "cells": [
    {
      "cell_type": "markdown",
      "metadata": {
        "id": "view-in-github",
        "colab_type": "text"
      },
      "source": [
        "<a href=\"https://colab.research.google.com/github/anaperez10/Analiticalll-Finanzas/blob/main/Analitica_3_Seguros.ipynb\" target=\"_parent\"><img src=\"https://colab.research.google.com/assets/colab-badge.svg\" alt=\"Open In Colab\"/></a>"
      ]
    },
    {
      "cell_type": "markdown",
      "source": [
        "**Carga de librerias, paquetes y bases de datos**"
      ],
      "metadata": {
        "id": "k3C17MbCJRny"
      }
    },
    {
      "cell_type": "code",
      "execution_count": null,
      "metadata": {
        "id": "tqbIVbhe9FHl"
      },
      "outputs": [],
      "source": [
        "#Conexión con colab\n",
        "from google.colab import drive\n",
        "drive.mount('/content/drive')\n",
        "import pandas as pd\n",
        "import numpy as np\n",
        "from unicodedata import normalize"
      ]
    },
    {
      "cell_type": "code",
      "source": [
        "#Importar paquetes\n",
        "import pandas as pd\n",
        "import numpy as np\n",
        "from unicodedata import normalize\n",
        "from sklearn.model_selection import RandomizedSearchCV\n",
        "import plotly.graph_objs as go #Graficos\n",
        "import plotly.express as px\n",
        "from matplotlib.pyplot import figure\n",
        "import matplotlib.pyplot as plt ### gráficos\n",
        "from sklearn import linear_model ## para regresión lineal\n",
        "from sklearn import tree ###para ajustar arboles de decisión\n",
        "from sklearn import svm\n",
        "from sklearn.ensemble import RandomForestRegressor ##Ensamble con bagging\n",
        "from sklearn.ensemble import GradientBoostingRegressor ###Ensamble boosting\n",
        "from sklearn.feature_selection import SelectFromModel\n",
        "from sklearn.model_selection import cross_val_predict, cross_val_score, cross_validate\n",
        "from sklearn.metrics import classification_report\n",
        "from sklearn.model_selection import train_test_split\n",
        "from sklearn.inspection import permutation_importance"
      ],
      "metadata": {
        "id": "3uUAopgbJIiD"
      },
      "execution_count": null,
      "outputs": []
    },
    {
      "cell_type": "code",
      "source": [
        "#Leer cada una de las bases de datos\n",
        "expustos= pd.read_table('/content/drive/MyDrive/CursoAnalitica3/BD_Expuestos.txt')\n",
        "socio =pd.read_table('/content/drive/MyDrive/CursoAnalitica3/BD_Sociodemograficas.txt', encoding='latin-1')\n",
        "siniestros =pd.read_table('/content/drive/MyDrive/CursoAnalitica3/DB_Siniestros.txt',encoding='latin-1')"
      ],
      "metadata": {
        "id": "xXrT6W9e9Oeh"
      },
      "execution_count": null,
      "outputs": []
    },
    {
      "cell_type": "markdown",
      "source": [
        "**Limpieza y transformación de datos**"
      ],
      "metadata": {
        "id": "OafnvC8nJfgY"
      }
    },
    {
      "cell_type": "markdown",
      "source": [
        "Base de datos de expuestos"
      ],
      "metadata": {
        "id": "C31X6AVg_rim"
      }
    },
    {
      "cell_type": "code",
      "source": [
        "#Observar los primeros cinco datos de la base de datos expuestos \n",
        "expustos.head(5)"
      ],
      "metadata": {
        "id": "TUXYEgOY_xLF"
      },
      "execution_count": null,
      "outputs": []
    },
    {
      "cell_type": "code",
      "source": [
        "#Pasar el nombre de las columnas a minusculas\n",
        "print(expustos.columns)\n",
        "expustos.columns= expustos.columns.str.lower()"
      ],
      "metadata": {
        "id": "x3Vt_W37Ba7m"
      },
      "execution_count": null,
      "outputs": []
    },
    {
      "cell_type": "code",
      "source": [
        "#Tipo de variables de la base de datos expuestos \n",
        "expustos.dtypes"
      ],
      "metadata": {
        "id": "Jc3A_VdJBfE8"
      },
      "execution_count": null,
      "outputs": []
    },
    {
      "cell_type": "code",
      "source": [
        "#Dimensión de base de datos expuestos \n",
        "expustos.shape"
      ],
      "metadata": {
        "id": "7apAosjKBnyy"
      },
      "execution_count": null,
      "outputs": []
    },
    {
      "cell_type": "code",
      "source": [
        "#Información de base de datos expuestos \n",
        "#No hay presencia de datos nulos\n",
        "expustos.info()"
      ],
      "metadata": {
        "id": "jLJmT78KCFf1"
      },
      "execution_count": null,
      "outputs": []
    },
    {
      "cell_type": "code",
      "source": [
        "#Cambar el tipo de dato de las fechas a datetime\n",
        "expustos['fecha_inicio']=pd.to_datetime(expustos['fecha_inicio'])\n",
        "expustos['fecha_cancelacion']=pd.to_datetime(expustos['fecha_cancelacion'])\n",
        "expustos['fecha_fin']=pd.to_datetime(expustos['fecha_fin'])"
      ],
      "metadata": {
        "id": "8sm2FXikCWqQ"
      },
      "execution_count": null,
      "outputs": []
    },
    {
      "cell_type": "code",
      "source": [
        "#Verificar el tipo de datos de las fechas\n",
        "expustos.dtypes"
      ],
      "metadata": {
        "id": "xsBBLuI2Cttz"
      },
      "execution_count": null,
      "outputs": []
    },
    {
      "cell_type": "code",
      "source": [
        "#Reemplazar datos nulos por 0\n",
        "expustos=expustos.fillna(0)"
      ],
      "metadata": {
        "id": "BE24ET-ZQDlr"
      },
      "execution_count": null,
      "outputs": []
    },
    {
      "cell_type": "code",
      "source": [
        "#Función de categorizar la variable fecha de cancelación en 0 y 1\n",
        "def categorizar(fila):\n",
        "    fecha_cancelacion = fila.fecha_cancelacion\n",
        "    if fecha_cancelacion  == 0:\n",
        "      return 0\n",
        "    else:\n",
        "      return 1\n"
      ],
      "metadata": {
        "id": "14WDF4neOruV"
      },
      "execution_count": null,
      "outputs": []
    },
    {
      "cell_type": "code",
      "source": [
        "#Crear nuevo campo llamado Cancelación con la función categorizar\n",
        "expustos[\"Cancelacion\"] = expustos.apply(categorizar, axis=1)"
      ],
      "metadata": {
        "id": "4hoyOBBLPaBS"
      },
      "execution_count": null,
      "outputs": []
    },
    {
      "cell_type": "code",
      "source": [
        "#Observar nuevamente la base de datos de expuestos al realizar la depuración de los datos\n",
        "expustos"
      ],
      "metadata": {
        "id": "uxfYNqsQPg49"
      },
      "execution_count": null,
      "outputs": []
    },
    {
      "cell_type": "markdown",
      "source": [
        "Base de datos de siniestros"
      ],
      "metadata": {
        "id": "NB8zR8KIC0bf"
      }
    },
    {
      "cell_type": "code",
      "source": [
        "#Observar los primeros cinco datos de la base de datos de siniestros\n",
        "siniestros.head(5)"
      ],
      "metadata": {
        "id": "aeCv_CviC2zz"
      },
      "execution_count": null,
      "outputs": []
    },
    {
      "cell_type": "code",
      "source": [
        "#Observar columnas de base de datos siniestros y pasar columnas a minusculas\n",
        "siniestros.columns\n",
        "siniestros.columns= siniestros.columns.str.lower()"
      ],
      "metadata": {
        "id": "21KxoRLVDCPx"
      },
      "execution_count": null,
      "outputs": []
    },
    {
      "cell_type": "code",
      "source": [
        "#Tipo de datos de la base de datos siniestros\n",
        "siniestros.dtypes"
      ],
      "metadata": {
        "id": "y37lhfYCDIFf"
      },
      "execution_count": null,
      "outputs": []
    },
    {
      "cell_type": "code",
      "source": [
        "#Dimensiones de la base de datos siniestros\n",
        "siniestros.shape"
      ],
      "metadata": {
        "id": "ELeajBvkDVQr"
      },
      "execution_count": null,
      "outputs": []
    },
    {
      "cell_type": "code",
      "source": [
        "#Información de la base de datos siniestros \n",
        "siniestros.info()"
      ],
      "metadata": {
        "id": "exvryF4SDhg9"
      },
      "execution_count": null,
      "outputs": []
    },
    {
      "cell_type": "code",
      "source": [
        "#Observar si existen datos nulos \n",
        "siniestros.isnull().sum()"
      ],
      "metadata": {
        "id": "iklecFBgDqOG"
      },
      "execution_count": null,
      "outputs": []
    },
    {
      "cell_type": "code",
      "source": [
        "#Imprimir categorias de las variables\n",
        "lista = ['reclamacion','diagnostico_codigo','diagnostico_desc']\n",
        "for i in lista:\n",
        "    print(siniestros[i].value_counts())\n",
        "    print('------------------------------------')"
      ],
      "metadata": {
        "id": "Qnr9n_oMD4Db"
      },
      "execution_count": null,
      "outputs": []
    },
    {
      "cell_type": "markdown",
      "source": [
        "Base de datos sociodemograficas"
      ],
      "metadata": {
        "id": "xe3jHVUtEnc4"
      }
    },
    {
      "cell_type": "code",
      "source": [
        "#Observar los primeros cinco datos de la base de datos sociodemografica\n",
        "socio.head(5)"
      ],
      "metadata": {
        "id": "s8NN_IEiEmpZ"
      },
      "execution_count": null,
      "outputs": []
    },
    {
      "cell_type": "code",
      "source": [
        "#Observar columnas de la base de datos sociodemografica y pasar las columnas a minusculas\n",
        "socio.columns\n",
        "socio.columns= socio.columns.str.lower()"
      ],
      "metadata": {
        "id": "UmCwK5IrE-lN"
      },
      "execution_count": null,
      "outputs": []
    },
    {
      "cell_type": "code",
      "source": [
        "#Tipos de datos de la base de datos sociodemografica\n",
        "socio.dtypes"
      ],
      "metadata": {
        "id": "2FTTHwgcFFfl"
      },
      "execution_count": null,
      "outputs": []
    },
    {
      "cell_type": "code",
      "source": [
        "#Convertir tipo de dato de object a datetime de la fecha de nacimiento\n",
        "socio['fechanacimiento']=pd.to_datetime(socio['fechanacimiento'])"
      ],
      "metadata": {
        "id": "JCR9r3uDFa_p"
      },
      "execution_count": null,
      "outputs": []
    },
    {
      "cell_type": "code",
      "source": [
        "#Observar dimensiones de la base de datos sociodemografica \n",
        "socio.shape"
      ],
      "metadata": {
        "id": "Arv6LacAFRvf"
      },
      "execution_count": null,
      "outputs": []
    },
    {
      "cell_type": "code",
      "source": [
        "#Información de la base de datos sociodemografica\n",
        "socio.info()"
      ],
      "metadata": {
        "id": "nVK2LSDYFKB5"
      },
      "execution_count": null,
      "outputs": []
    },
    {
      "cell_type": "code",
      "source": [
        "#Imprimir categorias de las variables\n",
        "lista = ['sexo_cd','regional','cancer',\n",
        "       'epoc', 'diabetes', 'hipertension', 'enf_cardiovascular']\n",
        "for i in lista:\n",
        "    print(socio[i].value_counts())\n",
        "    print('------------------------------------')"
      ],
      "metadata": {
        "id": "--To2zneFnmW"
      },
      "execution_count": null,
      "outputs": []
    },
    {
      "cell_type": "code",
      "source": [
        "#Pasar los nulos de usuarios a sin información\n",
        "socio['sexo_cd'] = socio['sexo_cd'].replace('-1','F')"
      ],
      "metadata": {
        "id": "ccPT-BHsGh7d"
      },
      "execution_count": null,
      "outputs": []
    },
    {
      "cell_type": "code",
      "source": [
        "#Eliminar el resto de datos nulos\n",
        "socio=socio.dropna()"
      ],
      "metadata": {
        "id": "Y9AyPgFgGcWJ"
      },
      "execution_count": null,
      "outputs": []
    },
    {
      "cell_type": "code",
      "source": [
        "#Calcular edad \n",
        "socio['edad']=2019-socio.fechanacimiento.dt.year"
      ],
      "metadata": {
        "id": "qSau6cbduLVI"
      },
      "execution_count": null,
      "outputs": []
    },
    {
      "cell_type": "code",
      "source": [
        "#Contar los valores de edad\n",
        "socio['edad'].value_counts()"
      ],
      "metadata": {
        "id": "Qnp973kouqE9"
      },
      "execution_count": null,
      "outputs": []
    },
    {
      "cell_type": "code",
      "source": [
        "#Volver la edad 0 si la resta es un valor menor a cero\n",
        "socio.loc[socio[socio.edad<0].index,['edad']]=0"
      ],
      "metadata": {
        "id": "ZjdZAKG3u5V8"
      },
      "execution_count": null,
      "outputs": []
    },
    {
      "cell_type": "code",
      "source": [
        "#Función para categorizar la edad \n",
        "def categorizar1(fila):\n",
        "    edad = fila.edad\n",
        "    if edad  < 6:\n",
        "      return 'Primera infancia'\n",
        "    elif edad < 11:\n",
        "      return 'Infancia'\n",
        "    elif edad < 18:\n",
        "      return 'Adolescencia'\n",
        "    elif edad < 28:\n",
        "      return 'Jovenes'\n",
        "    elif edad <59:\n",
        "      return'Adultez'\n",
        "    elif edad >60:\n",
        "      return 'Persona Mayor'\n"
      ],
      "metadata": {
        "id": "GefNMWXozJ6K"
      },
      "execution_count": null,
      "outputs": []
    },
    {
      "cell_type": "code",
      "source": [
        "#Crear variable curso de vida donde se aplica la función categorizar1 para clasificar los datos \n",
        "socio[\"curso de vida\"] = socio.apply(categorizar1, axis=1)"
      ],
      "metadata": {
        "id": "F-se2JuJ0zun"
      },
      "execution_count": null,
      "outputs": []
    },
    {
      "cell_type": "markdown",
      "source": [
        "Union de las bases de datos"
      ],
      "metadata": {
        "id": "QYQmrnRn2Unj"
      }
    },
    {
      "cell_type": "code",
      "source": [
        "#Se une la base de datos sociodemograficas y la base de datos de siniestros \n",
        "dfcx = pd.merge(socio,siniestros, on = 'asegurado_id',how = 'inner')\n",
        "dfcx.head(3)"
      ],
      "metadata": {
        "id": "46ZRtFwy2UX0"
      },
      "execution_count": null,
      "outputs": []
    },
    {
      "cell_type": "code",
      "source": [
        "#Se observa si existe algún dato nulo\n",
        "dfcx.isnull().sum()"
      ],
      "metadata": {
        "id": "k6UeTKNp3K3o"
      },
      "execution_count": null,
      "outputs": []
    },
    {
      "cell_type": "code",
      "source": [
        "#Se une la base de datos creada anteriormente dfcx con expuestos1\n",
        "dfcx1 = pd.merge(dfcx,expustos, on = 'asegurado_id',how = 'inner')\n",
        "dfcx1.head(3)"
      ],
      "metadata": {
        "id": "0l3s30mE369H"
      },
      "execution_count": null,
      "outputs": []
    },
    {
      "cell_type": "code",
      "source": [
        "#Observar dimensión de nueva base de datos \n",
        "dfcx1.shape"
      ],
      "metadata": {
        "id": "ll8Hr37X47GZ"
      },
      "execution_count": null,
      "outputs": []
    },
    {
      "cell_type": "code",
      "source": [
        "#Observar si existe la presencia de datos nulos\n",
        "dfcx1.isnull().sum()"
      ],
      "metadata": {
        "id": "IZxuBcWI3cOB"
      },
      "execution_count": null,
      "outputs": []
    },
    {
      "cell_type": "code",
      "source": [
        "#Se elimina la variable de curso de vida\n",
        "dfcx1=dfcx1.drop(['curso de vida'], axis=1)"
      ],
      "metadata": {
        "id": "bbl6dRa64UMW"
      },
      "execution_count": null,
      "outputs": []
    },
    {
      "cell_type": "code",
      "source": [
        "#Se crea nuevamente el campo de curso de vida y se aplica la función de categorizar\n",
        "dfcx1[\"curso de vida\"] = dfcx1.apply(categorizar1, axis=1)"
      ],
      "metadata": {
        "id": "bziymEYV4OOA"
      },
      "execution_count": null,
      "outputs": []
    },
    {
      "cell_type": "code",
      "source": [
        "#Contar los valores del campo curso de vida\n",
        "dfcx1['curso de vida'].value_counts()"
      ],
      "metadata": {
        "id": "BIEUHwYc5cQF"
      },
      "execution_count": null,
      "outputs": []
    },
    {
      "cell_type": "code",
      "source": [
        "#Eliminar datos nulos de la base de datos unida \n",
        "dfcx1=dfcx1.dropna()"
      ],
      "metadata": {
        "id": "PBT6Ju675uWI"
      },
      "execution_count": null,
      "outputs": []
    },
    {
      "cell_type": "markdown",
      "source": [
        "**Análisis Exploratorio**"
      ],
      "metadata": {
        "id": "VFXTEN2hG6XZ"
      }
    },
    {
      "cell_type": "code",
      "source": [
        "df=pd.Series(expustos.fecha_fin - expustos.fecha_inicio).dt.days.value_counts().reset_index().rename(columns={'index':'Dias',0:'tamaño'})"
      ],
      "metadata": {
        "id": "Bql2riBwG1U1"
      },
      "execution_count": null,
      "outputs": []
    },
    {
      "cell_type": "code",
      "source": [
        "#Tiempo en dias en que las personas piden los seguros.\n",
        "fig=px.bar(df.drop(index=[0,1]),x='Dias', y='tamaño', color_discrete_sequence =  px.colors.sequential.Aggrnyl)\n",
        "fig.update_layout(font=dict(size=15)) \n",
        "fig.show()"
      ],
      "metadata": {
        "id": "cXsaI_6KIZbu"
      },
      "execution_count": null,
      "outputs": []
    },
    {
      "cell_type": "code",
      "source": [
        "#Distribucion de las personas que cancenlan el seguro antes de terminar\n",
        "# crear dataset\n",
        "dic = {0:'No canceló',\n",
        "       1:'Canceló'}\n",
        "base = expustos.groupby(['Cancelacion'])[['asegurado_id']].count().sort_values('asegurado_id', ascending = False).reset_index()\n",
        "base['Cancelacion'] = base['Cancelacion'].replace(dic)\n",
        "# crear gráfica\n",
        "fig = px.pie(base, values = 'asegurado_id', names ='Cancelacion',\n",
        "             title= '<b>Participación de las personas que cancenlan el seguro antes de terminar<b>',\n",
        "             color_discrete_sequence=px.colors.qualitative.G10)\n",
        "\n",
        "# agregar detalles a la gráfica\n",
        "fig.update_layout(\n",
        "    template = 'simple_white',\n",
        "    title_x = 0.5)\n",
        "\n",
        "fig.show()"
      ],
      "metadata": {
        "id": "XzH4xIP6NHVG"
      },
      "execution_count": null,
      "outputs": []
    },
    {
      "cell_type": "code",
      "source": [
        "df=pd.Series(expustos.fecha_inicio.dt.month_name().value_counts()).reset_index().rename(columns={'index':'Mes','fecha_inicio':'tamaño'})"
      ],
      "metadata": {
        "id": "LdN72k4jM7Il"
      },
      "execution_count": null,
      "outputs": []
    },
    {
      "cell_type": "code",
      "source": [
        "#Diagrama de barras de mes y tamaño\n",
        "fig=px.bar(df,x='Mes',y='tamaño',color_discrete_sequence =  px.colors.sequential.Aggrnyl )\n",
        "fig.update_layout(font=dict(size=15))\n",
        "fig.show()"
      ],
      "metadata": {
        "id": "YfeotFISUvrd"
      },
      "execution_count": null,
      "outputs": []
    },
    {
      "cell_type": "markdown",
      "source": [
        "Exploración de base de datos Siniestros"
      ],
      "metadata": {
        "id": "oHmveVSDqICO"
      }
    },
    {
      "cell_type": "code",
      "source": [
        "# crear dataset\n",
        "base = siniestros.groupby(['diagnostico_desc'])[['valor_pagado']].sum().sort_values('valor_pagado', ascending = False).reset_index().head(10)\n",
        "\n",
        "# crear gráfica\n",
        "fig = px.bar(base, x = 'diagnostico_desc', y='valor_pagado',\n",
        "             title= '<b>Costos por el diagnostico<b>',\n",
        "             color_discrete_sequence=px.colors.qualitative.G10)\n",
        "\n",
        "# agregar detalles a la gráfica\n",
        "fig.update_layout(\n",
        "    xaxis_title = 'Año',\n",
        "    yaxis_title = 'Precio de venta',\n",
        "    template = 'simple_white',\n",
        "    title_x = 0.5)\n",
        "\n",
        "fig.show()"
      ],
      "metadata": {
        "id": "86QzVOb7qKVT"
      },
      "execution_count": null,
      "outputs": []
    },
    {
      "cell_type": "code",
      "source": [
        "# crear dataset\n",
        "base = siniestros.groupby(['reclamacion'])[['valor_pagado']].sum().sort_values('valor_pagado', ascending = False).reset_index().head(10)\n",
        "\n",
        "# crear gráfica\n",
        "fig = px.bar(base, x = 'reclamacion', y='valor_pagado',\n",
        "             title= '<b>Costos por el tipo de reclamacion<b>',\n",
        "             color_discrete_sequence=px.colors.qualitative.G10)\n",
        "\n",
        "# agregar detalles a la gráfica\n",
        "fig.update_layout(\n",
        "    xaxis_title = 'Año',\n",
        "    yaxis_title = 'Precio de venta',\n",
        "    template = 'simple_white',\n",
        "    title_x = 0.5)\n",
        "\n",
        "fig.show()"
      ],
      "metadata": {
        "id": "PuUHH5XGtIOQ"
      },
      "execution_count": null,
      "outputs": []
    },
    {
      "cell_type": "markdown",
      "source": [
        "Exploracion de base de datos Socio "
      ],
      "metadata": {
        "id": "0amGF49WuGSh"
      }
    },
    {
      "cell_type": "code",
      "source": [
        "# crear dataset\n",
        "base = socio.groupby(['sexo_cd'])[['asegurado_id']].count().sort_values('asegurado_id', ascending = False).reset_index()\n",
        "\n",
        "# crear gráfica\n",
        "fig = px.pie(base, values = 'asegurado_id', names ='sexo_cd',\n",
        "             title= '<b>Participación del sexo en los seguros de vida b>',\n",
        "             color_discrete_sequence=px.colors.qualitative.G10)\n",
        "\n",
        "# agregar detalles a la gráfica\n",
        "fig.update_layout(\n",
        "    template = 'simple_white',\n",
        "    title_x = 0.5)\n",
        "\n",
        "fig.show()"
      ],
      "metadata": {
        "id": "coPKccMWxOrF"
      },
      "execution_count": null,
      "outputs": []
    },
    {
      "cell_type": "code",
      "source": [
        "# crear dataset\n",
        "base = socio.groupby(['curso de vida'])[['asegurado_id']].count().sort_values('asegurado_id', ascending = False).reset_index()\n",
        "\n",
        "# crear gráfica\n",
        "fig = px.pie(base, values = 'asegurado_id', names ='curso de vida',\n",
        "             title= '<b>Participación del curso de vida en los seguros de vida b>',\n",
        "             color_discrete_sequence=px.colors.qualitative.G10)\n",
        "\n",
        "# agregar detalles a la gráfica\n",
        "fig.update_layout(\n",
        "    template = 'simple_white',\n",
        "    title_x = 0.5)\n",
        "\n",
        "fig.show()"
      ],
      "metadata": {
        "id": "XnBcGKW6yDMh"
      },
      "execution_count": null,
      "outputs": []
    },
    {
      "cell_type": "code",
      "source": [
        "# crear dataset\n",
        "base = socio.groupby(['regional'])[['asegurado_id']].count().sort_values('asegurado_id', ascending = False).reset_index().head(10)\n",
        "\n",
        "# crear gráfica\n",
        "fig = px.bar(base, x = 'regional', y='asegurado_id',\n",
        "             title= '<b>Cantidad de personas por region<b>',\n",
        "             color_discrete_sequence=px.colors.qualitative.G10)\n",
        "\n",
        "# agregar detalles a la gráfica\n",
        "fig.update_layout(\n",
        "    xaxis_title = 'Año',\n",
        "    yaxis_title = 'Precio de venta',\n",
        "    template = 'simple_white',\n",
        "    title_x = 0.5)\n",
        "\n",
        "fig.show()"
      ],
      "metadata": {
        "id": "iIDJ58V01bmF"
      },
      "execution_count": null,
      "outputs": []
    },
    {
      "cell_type": "markdown",
      "source": [
        "Análisis exploratorio de base de datos concatenada"
      ],
      "metadata": {
        "id": "jxmW0hy26Ekh"
      }
    },
    {
      "cell_type": "code",
      "source": [
        "#Columnas de la base de datos unida\n",
        "dfcx1.columns"
      ],
      "metadata": {
        "id": "S59k3Bjy6iIs"
      },
      "execution_count": null,
      "outputs": []
    },
    {
      "cell_type": "code",
      "source": [
        "#Sacar el año de la fecha de inicio\n",
        "dfcx1['año'] = dfcx1['fecha_inicio'].dt.year "
      ],
      "metadata": {
        "id": "PNvdvYix6h7K"
      },
      "execution_count": null,
      "outputs": []
    },
    {
      "cell_type": "code",
      "source": [
        "# crear dataset\n",
        "\n",
        "base = dfcx1.groupby(['curso de vida', 'año'])[['valor_pagado']].sum().reset_index()\n",
        "# MSSubClass: Tipo de edificio\n",
        "# YrSold: Año en que se vende\n",
        "# SalePrice: Precio de venta\n",
        "\n",
        "# crear gráfica\n",
        "fig = px.bar(base, x = 'año', y='valor_pagado', color = 'curso de vida', barmode = 'group', title= '<b>costos según el curso de vida por año<b>')\n",
        "\n",
        "# agregar detalles a la gráfica\n",
        "fig.update_layout(\n",
        "    xaxis_title = 'Año',\n",
        "    yaxis_title = 'Precio de venta',\n",
        "    template = 'simple_white',\n",
        "    title_x = 0.5)\n",
        "\n",
        "fig.show()"
      ],
      "metadata": {
        "id": "S3hrluLm6JGp"
      },
      "execution_count": null,
      "outputs": []
    },
    {
      "cell_type": "code",
      "source": [
        "# crear dataset\n",
        "base = dfcx1.groupby(['sexo_cd', 'año'])[['valor_pagado']].sum().reset_index()\n",
        "\n",
        "# crear gráfica\n",
        "fig = px.bar(base, x = 'año', y='valor_pagado', color = 'sexo_cd', barmode = 'group', \n",
        "             title= '<b>Precio de venta según el tipo de acceso al edificio<b>',\n",
        "             color_discrete_sequence=px.colors.qualitative.Antique)\n",
        "\n",
        "# agregar detalles a la gráfica\n",
        "fig.update_layout(\n",
        "    xaxis_title = 'Año',\n",
        "    yaxis_title = 'Precio de venta',\n",
        "    template = 'simple_white',\n",
        "    title_x = 0.5)\n",
        "\n",
        "fig.show()"
      ],
      "metadata": {
        "id": "v4EmlvCZ-Ll1"
      },
      "execution_count": null,
      "outputs": []
    },
    {
      "cell_type": "markdown",
      "source": [
        "**Selección de variables**"
      ],
      "metadata": {
        "id": "whq7nRudKP7r"
      }
    },
    {
      "cell_type": "code",
      "source": [
        "#Convertir las columnas de variables en minusculas \n",
        "dfcx1.columns = dfcx1.columns.str.lower()\n",
        "#Inforación general de la base de datos\n",
        "dfcx1.info()"
      ],
      "metadata": {
        "id": "UnmEvS1p-jt2"
      },
      "execution_count": null,
      "outputs": []
    },
    {
      "cell_type": "code",
      "source": [
        "#Imprimir categorias de las variables\n",
        "lista = ['sexo_cd', 'regional', 'cancer',\n",
        "       'epoc', 'diabetes', 'hipertension', 'enf_cardiovascular','mes_pago', \n",
        "       'reclamacion', 'diagnostico_codigo', 'diagnostico_desc',\n",
        "       'poliza_asegurado_id','cancelacion', 'curso de vida','año']\n",
        "for i in lista:\n",
        "    print(dfcx1[i].value_counts())\n",
        "    print('------------------------------------')"
      ],
      "metadata": {
        "id": "WZzHSFCBMO9-"
      },
      "execution_count": null,
      "outputs": []
    },
    {
      "cell_type": "code",
      "source": [
        "# Aplicar funciones para homologar a nivel general.\n",
        "lista = ['sexo_cd', 'regional' ,'reclamacion', 'diagnostico_desc']\n",
        "for i in lista:\n",
        "    dfcx1[i] = dfcx1[i].str.lower() #minuscula\n",
        "    dfcx1[i] = dfcx1[i].str.strip() #espacios\n",
        "    dfcx1[i] = dfcx1[i].apply(lambda x: normalize(\"NFKD\", x).encode(\"ascii\", \"ignore\").decode(\"ascii\") if pd.notnull(x) else x)"
      ],
      "metadata": {
        "id": "zPjA9QEpLkmh"
      },
      "execution_count": null,
      "outputs": []
    },
    {
      "cell_type": "code",
      "source": [
        "#Observar los primeros cinco datos de la base de datos despúes de la depuración\n",
        "dfcx1.head(5)"
      ],
      "metadata": {
        "id": "reiWjNh8LF91"
      },
      "execution_count": null,
      "outputs": []
    },
    {
      "cell_type": "code",
      "source": [
        "#Eliminar datos duplicados de la base de datos \n",
        "dfcx1 = dfcx1.drop_duplicates()\n",
        "#Observar la dimensión de la base de datos despúes de eliminar duplicados \n",
        "dfcx1.shape"
      ],
      "metadata": {
        "id": "oWqeihl4djlK"
      },
      "execution_count": null,
      "outputs": []
    },
    {
      "cell_type": "code",
      "source": [
        "#Contar los valores de diagnostico_desc\n",
        "df1 = pd.DataFrame(dfcx1['diagnostico_desc'].value_counts().reset_index())\n",
        "df1"
      ],
      "metadata": {
        "id": "YV_8H7SHd2ab"
      },
      "execution_count": null,
      "outputs": []
    },
    {
      "cell_type": "code",
      "source": [
        "#Eliminar datos que sean menores de 100 con el fin que esto no aporta con la predicción de la variable target\n",
        "df2 = df1.drop(df1[df1['diagnostico_desc']<100].index)\n",
        "df2"
      ],
      "metadata": {
        "id": "bS93tlEwhh8o"
      },
      "execution_count": null,
      "outputs": []
    },
    {
      "cell_type": "code",
      "source": [
        "#Renombras las columnas de df2\n",
        "df2= df2.rename(columns={'index':'diagnostico_desc','diagnostico_desc':'cuenta'})"
      ],
      "metadata": {
        "id": "PrFPI637nT-M"
      },
      "execution_count": null,
      "outputs": []
    },
    {
      "cell_type": "code",
      "source": [
        "#Observar df2 despúes de los cambios de nombre que se realizaron\n",
        "df2"
      ],
      "metadata": {
        "id": "RQrBKkSnn56C"
      },
      "execution_count": null,
      "outputs": []
    },
    {
      "cell_type": "code",
      "source": [
        "#Unir bases de datos df2 y dfcx1\n",
        "dfcx3 = pd.merge(df2,dfcx1, on = 'diagnostico_desc',how = 'inner')\n",
        "dfcx3.head(3)"
      ],
      "metadata": {
        "id": "zkWfK_-5nfoj"
      },
      "execution_count": null,
      "outputs": []
    },
    {
      "cell_type": "code",
      "source": [
        "#Observar dimensiones de la nueva base de datos\n",
        "dfcx3.shape"
      ],
      "metadata": {
        "id": "OY7rW85woFVN"
      },
      "execution_count": null,
      "outputs": []
    },
    {
      "cell_type": "code",
      "source": [
        "#Eliminar datos duplicados y seleccionando el último dato de asegurad_id\n",
        "dfcx3=dfcx3.drop_duplicates(subset=['asegurado_id'])"
      ],
      "metadata": {
        "id": "9nyghVAAw2bk"
      },
      "execution_count": null,
      "outputs": []
    },
    {
      "cell_type": "code",
      "source": [
        "#Observar si existe la presencia de datos nulos \n",
        "dfcx3.isnull().sum()"
      ],
      "metadata": {
        "id": "Sc-raJTptvJc"
      },
      "execution_count": null,
      "outputs": []
    },
    {
      "cell_type": "code",
      "source": [
        "#Contar datos del campo diagnostico_desc\n",
        "dfcx3['diagnostico_desc'].value_counts()"
      ],
      "metadata": {
        "id": "u9t6AJgDt5dt"
      },
      "execution_count": null,
      "outputs": []
    },
    {
      "cell_type": "code",
      "source": [
        "#Eliminar los siguientes campos de la base de datos dfcx3\n",
        "dfcx3 = dfcx3.drop(['asegurado_id', 'fechanacimiento',\n",
        "       'mes_pago', 'diagnostico_codigo','poliza_asegurado_id', 'fecha_inicio',\n",
        "       'fecha_cancelacion', 'fecha_fin', 'cancelacion','curso de vida','cuenta'],axis=1)"
      ],
      "metadata": {
        "id": "SQu3UeT7r6F3"
      },
      "execution_count": null,
      "outputs": []
    },
    {
      "cell_type": "code",
      "source": [
        "# Convertir variableas categóricas en dummies\n",
        "dfcx3_dummies = pd.get_dummies(dfcx3,columns=['sexo_cd','regional','reclamacion','diagnostico_desc'])\n",
        "dfcx3_dummies.shape"
      ],
      "metadata": {
        "id": "v1PXz2K2oSMd"
      },
      "execution_count": null,
      "outputs": []
    },
    {
      "cell_type": "code",
      "source": [
        "#Observar las dimensiones de la base datos depurada\n",
        "dfcx3_dummies.shape"
      ],
      "metadata": {
        "id": "Gs_yOFu_wApB"
      },
      "execution_count": null,
      "outputs": []
    },
    {
      "cell_type": "code",
      "source": [
        "# Descargar la BD depurada\n",
        "dfcx3_dummies.to_csv('nueva.csv')"
      ],
      "metadata": {
        "id": "F-YZzdrNuWTa"
      },
      "execution_count": null,
      "outputs": []
    },
    {
      "cell_type": "code",
      "source": [
        "#Determinar las columna target\n",
        "X = dfcx3_dummies.loc[:,~dfcx3_dummies.columns.isin(['valor_pagado'])]\n",
        "y = dfcx3_dummies['valor_pagado']"
      ],
      "metadata": {
        "id": "vx1Ms0-mxlXM"
      },
      "execution_count": null,
      "outputs": []
    },
    {
      "cell_type": "markdown",
      "source": [
        "**Selección del modelo**"
      ],
      "metadata": {
        "id": "V3aKBAMAMcZ2"
      }
    },
    {
      "cell_type": "code",
      "source": [
        "# Modelos candidatos, teniendo en cuenta que es un problema de regresión\n",
        "m_lreg = linear_model.LinearRegression()\n",
        "m_rtree=tree.DecisionTreeRegressor()\n",
        "m_rf= RandomForestRegressor()\n",
        "m_gbt=GradientBoostingRegressor()"
      ],
      "metadata": {
        "id": "73iZFqzVxyo4"
      },
      "execution_count": null,
      "outputs": []
    },
    {
      "cell_type": "code",
      "source": [
        "# Se crea una lista con los anteriores modelos\n",
        "modelos=list([m_lreg,m_rtree, m_rf, m_gbt])"
      ],
      "metadata": {
        "id": "0g-YX8okx4Oh"
      },
      "execution_count": null,
      "outputs": []
    },
    {
      "cell_type": "code",
      "source": [
        "#Se crea una función para determinar que variables se van a elegir, teniendo en cuenta la lista anteriormente mencionada\n",
        "def sel_variables(modelos,X,y, SelectFromModel,np,threshold):\n",
        "    \n",
        "    var_names_ac=np.array([])\n",
        "    for modelo in modelos:\n",
        "        #modelo=modelos[i]\n",
        "        modelo.fit(X,y)\n",
        "        sel = SelectFromModel(modelo, prefit=True,threshold=threshold)\n",
        "        var_names= sel.get_feature_names_out(modelo.feature_names_in_)\n",
        "        var_names_ac=np.append(var_names_ac, var_names)\n",
        "        var_names_ac=np.unique(var_names_ac)\n",
        "    \n",
        "    return var_names_ac"
      ],
      "metadata": {
        "id": "H_nygwnWyAPS"
      },
      "execution_count": null,
      "outputs": []
    },
    {
      "cell_type": "code",
      "source": [
        "# Variables seleccionadas, en este caso se trabajarán con 118\n",
        "var_names = sel_variables(modelos, X, y, SelectFromModel, np, threshold=\"3*mean\")\n",
        "var_names.shape"
      ],
      "metadata": {
        "id": "XtIgdPVeyCoC"
      },
      "execution_count": null,
      "outputs": []
    },
    {
      "cell_type": "code",
      "source": [
        "# Nombres de las variables seleccionadas\n",
        "var_names"
      ],
      "metadata": {
        "id": "UzUiPst0ynHO"
      },
      "execution_count": null,
      "outputs": []
    },
    {
      "cell_type": "code",
      "source": [
        "# Matriz con variables seleccionadas\n",
        "X2 = X[var_names]"
      ],
      "metadata": {
        "id": "ZH1nUke1zNY8"
      },
      "execution_count": null,
      "outputs": []
    },
    {
      "cell_type": "code",
      "source": [
        "# Se crea una función para poder elegir el mejor modelo de los 4 anteriormente mencionados.\n",
        "def medir_modelos(modelos,scoring,X,y,cv,cross_val_score,pd):\n",
        "\n",
        "    metric_modelos=pd.DataFrame()\n",
        "    for modelo in modelos:\n",
        "        scores=cross_val_score(modelo,X,y, scoring=scoring, cv=cv )\n",
        "        pdscores=pd.DataFrame(scores)\n",
        "        metric_modelos=pd.concat([metric_modelos,pdscores],axis=1)\n",
        "    \n",
        "    metric_modelos.columns=[\"reg_lineal\",\"decision_tree\",\"random_forest\",\"gradient_boosting\"]\n",
        "    return metric_modelos"
      ],
      "metadata": {
        "id": "KnDTlJqwzTDa"
      },
      "execution_count": null,
      "outputs": []
    },
    {
      "cell_type": "code",
      "source": [
        "# Se analiza el mape y rmse para definir el mejor modelo.\n",
        "mape_varsel= medir_modelos(modelos,\"neg_mean_absolute_percentage_error\",X2,y,10, cross_val_score, pd)\n",
        "rmse_varsel= medir_modelos(modelos,\"neg_root_mean_squared_error\",X2,y,10, cross_val_score, pd)"
      ],
      "metadata": {
        "id": "HpcTJlFQzVL6"
      },
      "execution_count": null,
      "outputs": []
    },
    {
      "cell_type": "code",
      "source": [
        "#Mape de los diferentes modelos\n",
        "mape_varsel.plot(kind='box')"
      ],
      "metadata": {
        "id": "rJ8xiyid1VdP"
      },
      "execution_count": null,
      "outputs": []
    },
    {
      "cell_type": "markdown",
      "source": [
        "**Afinamiento de hiperparámetros y evaluación del modelo**"
      ],
      "metadata": {
        "id": "qHiwqaiMMJjq"
      }
    },
    {
      "cell_type": "code",
      "source": [
        "# Hiperparametros\n",
        "param_grid = [{'n_estimators': [3, 500, 100], 'max_features': [5,20]},\n",
        "{'bootstrap': [False,True]}]\n",
        "\n",
        "\n",
        "tun_rf=RandomizedSearchCV(m_rf,param_distributions=param_grid,n_iter=3,scoring=\"neg_root_mean_squared_error\")\n",
        "tun_rf.fit(X2,y)\n",
        "\n",
        "resultados=tun_rf.cv_results_\n",
        "tun_rf.best_params_\n",
        "pd_resultados=pd.DataFrame(resultados)\n",
        "pd_resultados[[\"params\",\"mean_test_score\"]]\n",
        "\n",
        "rf_final=tun_rf.best_estimator_ ### Guardar el modelo con hyperparameter tunning\n",
        "m_lreg=m_lreg.fit(X2,y)"
      ],
      "metadata": {
        "id": "pJEmR8zr1Zcj"
      },
      "execution_count": null,
      "outputs": []
    },
    {
      "cell_type": "code",
      "source": [
        "#Observar los resultados \n",
        "pd_resultados[[\"params\",\"mean_test_score\"]]"
      ],
      "metadata": {
        "id": "YD21VvYH1fuX"
      },
      "execution_count": null,
      "outputs": []
    },
    {
      "cell_type": "code",
      "source": [
        "#Evaluar con cross validation\n",
        "eval =cross_validate(rf_final,X2,y,cv=5,scoring=\"neg_root_mean_squared_error\",return_train_score=True)"
      ],
      "metadata": {
        "id": "C_XTMMfh1hoB"
      },
      "execution_count": null,
      "outputs": []
    },
    {
      "cell_type": "code",
      "source": [
        "train_rf=pd.DataFrame(eval['train_score'])\n",
        "test_rf=pd.DataFrame(eval['test_score'])\n",
        "train_test_rf=pd.concat([train_rf, test_rf],axis=1)\n",
        "train_test_rf.columns=['train_score','test_score']"
      ],
      "metadata": {
        "id": "-aahNIxt8oDb"
      },
      "execution_count": null,
      "outputs": []
    },
    {
      "cell_type": "code",
      "source": [
        "#Promedio de test score\n",
        "train_test_rf[\"test_score\"].mean()"
      ],
      "metadata": {
        "id": "RwdSF5Z08pit"
      },
      "execution_count": null,
      "outputs": []
    },
    {
      "cell_type": "code",
      "source": [
        "#Vector de predicciones generadas \n",
        "predictions=cross_val_predict(m_lreg,X2,y,cv=5)\n",
        "predictions"
      ],
      "metadata": {
        "id": "Wez_ruP48rjp"
      },
      "execution_count": null,
      "outputs": []
    },
    {
      "cell_type": "code",
      "source": [
        "#Histograma del error\n",
        "pred=pd.DataFrame(predictions,columns=['pred'])\n",
        "pdy=y.to_frame()\n",
        "error=pdy['valor_pagado']-pred['pred']\n",
        "error.hist(bins=50)"
      ],
      "metadata": {
        "id": "VFDYsRc-M_yd"
      },
      "execution_count": null,
      "outputs": []
    },
    {
      "cell_type": "code",
      "source": [
        "#Boxplot del error\n",
        "plt.boxplot(error,vert=False)\n",
        "plt.show()"
      ],
      "metadata": {
        "id": "fWdOHhPLNJ55"
      },
      "execution_count": null,
      "outputs": []
    },
    {
      "cell_type": "code",
      "source": [
        "#Evaluación de overfitting y underfitting\n",
        "results = cross_validate(rf_final,X2,y,return_train_score=True,cv=5) \n",
        "results\n",
        "test_scores = results['test_score']\n",
        "train_scores = results['train_score']\n",
        "#score de entrenamiento\n",
        "print(np.mean(train_scores)) \n",
        "#score de prueba\n",
        "print(np.mean(test_scores))"
      ],
      "metadata": {
        "id": "enU1XDokNSYX"
      },
      "execution_count": null,
      "outputs": []
    },
    {
      "cell_type": "code",
      "source": [
        "# División de los datos en train y test\n",
        "X_train, X_test, y_train, y_test = train_test_split(\n",
        "                                        X2,\n",
        "                                        y,\n",
        "                                        random_state = 123)"
      ],
      "metadata": {
        "id": "YEYpTF4JNYe_"
      },
      "execution_count": null,
      "outputs": []
    },
    {
      "cell_type": "markdown",
      "source": [
        "**Despliegue del modelo**"
      ],
      "metadata": {
        "id": "w0HfoheyNgff"
      }
    },
    {
      "cell_type": "code",
      "source": [],
      "metadata": {
        "id": "VI2SuWiKNZLB"
      },
      "execution_count": null,
      "outputs": []
    }
  ]
}